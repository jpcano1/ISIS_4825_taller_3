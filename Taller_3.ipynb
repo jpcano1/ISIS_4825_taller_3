{
  "nbformat": 4,
  "nbformat_minor": 0,
  "metadata": {
    "colab": {
      "name": "Taller 3.ipynb",
      "provenance": [],
      "collapsed_sections": []
    },
    "kernelspec": {
      "name": "python3",
      "display_name": "Python 3"
    }
  },
  "cells": [
    {
      "cell_type": "markdown",
      "metadata": {
        "id": "yTy0LcQQjQfz",
        "colab_type": "text"
      },
      "source": [
        "# **Taller No. 3: Segmentación por agrupamiento (*clustering*)**\n",
        "### **Universidad de los Andes**\n",
        "### **Ingeniería de Sistemas y Computación**\n",
        "### **ISIS-4825 Imágenes y Visión**\n",
        "### **Profesor: Marcela Hernández (marc-her@uniandes.edu.co)**\n",
        "![image](https://docs.google.com/uc?export=download&id=1-btI-a-beRIB1rKgKNJwko1n5oyZjG3E)\n",
        "\n",
        "# **Contenido**\n",
        "1. [**Objetivo**](#id1)\n",
        "2. [**Metodología**](#id2)\n",
        "3. [**Validación**](#id3)"
      ]
    },
    {
      "cell_type": "markdown",
      "metadata": {
        "id": "XCXifLhgjtmE",
        "colab_type": "text"
      },
      "source": [
        "## **1. Objetivo**<a name=\"id1\"></a>\n",
        "- El objetivo de esta tarea es implementar y evaluar un método de segmentación por clustering, aplicándolo a imágenes de diferentes características, con el fin de entender su alcance y restricciones.\n",
        "\n",
        "## **2. Metodología**<a name=\"id2\"></a>\n",
        "- El método de base que se va a implementar en este proyecto es el algoritmo de K-Medias (K-Means).\n",
        "- El Algoritmo de las K-medias¹ es una técnica iterativa que se utiliza para dividir una imagen en K clusters. El algoritmo básico es: \n",
        "    1. Escoger K centros de clusters, ya sea de forma aleatoria o basándose en alguno método heurístico.\n",
        "    2. Asignar a cada píxel de la imagen el clúster que minimiza la varianza entre el pixel y el centro del cluster. \n",
        "    3. Recalcular los centros de los clusters haciendo la media de todos los pixeles del cluster. \n",
        "    4. Repetir los pasos 2 y 3 hasta que se consigue la convergencia (por ejemplo, los pixeles no cambian de clusters). \n",
        "- En este caso, la varianza es la diferencia absoluta entre un píxel y el centro del cluster. La diferencia se basa típicamente en color, la intensidad, la textura, y la localización del pixel, o una combinación ponderada de estos factores. El número K se puede seleccionar manualmente, aleatoriamente, o por una heurística. Este algoritmo garantiza la convergencia, pero puede devolver una solución que no sea óptima. La calidad de la solución depende de la serie inicial de clusters y del valor de K. En estadística y aprendizaje automático, el algoritmo de las k-medias es un algoritmo de agrupamiento para dividir objetos en k grupos, donde k < n. Es similar al algoritmo de maximización de expectativas para las mezclas de gaussianas ya que ambos pretenden encontrar los centros de agrupaciones naturales de los datos. El modelo requiere que los atributos del objeto correspondan a los elementos de un espacio vectorial. El objetivo es intentar alcanzar al mínima varianza total entre clusters, o, la función de error al cuadrado. Un inconveniente del algoritmo de las k-medias es que el número de clusters k es un parámetro de entrada. Una elección inadecuada de k puede dar malos resultados. El algoritmo también asume que la varianza es una medida adecuada de la dispersión del cluster.\n",
        "![image](https://docs.google.com/uc?export=download&id=1zRcUXGgVXHQixjC63ii8xcPbuWYHEbEn)\n",
        "- ¹Tomado de wikipedia: http://es.wikipedia.org/wiki/Segmentación_(procesamiento_de_imágenes)\n",
        "\n",
        "## **3. Validación**<a name=\"id3\"></a>\n",
        "- Como en todos los procesos de segmentación, la validación de la técnica propuesta es un paso obligado. Evalúe el desempeño del método sobre al menos 5 imágenes de prueba, con características diferentes. Comente el desempeño del método en función de la imagen (histograma, nivel de ruido, etc.), del número de clusters y de su inicialización. \n",
        "    \n",
        "    Piense y comente cómo podría preprocesar la imagen para mejorar el resultado de la segmentación en los casos expuestos. AYUDA: dado que se trata de un método de clasificación que depende fuertemente del número de clusters que se escoja, si se reducen los datos a clasificar, el resultado puede mejorar considerablemente.\n",
        "\n",
        "## <ins>**Herramientas de programación**</ins>\n",
        "- El método debe ser implementado en python.\n",
        "\n",
        "## <ins>**Evaluación**</ins>\n",
        "- Software: 70%\n",
        "- Informe: 30%\n",
        "- **El taller debe  ser desarrollado en grupos de 2 estudiantes**\n",
        "\n",
        "## <ins>**Entrega de software e imágenes**</ins>\n",
        "- Entregue la carpeta del proyecto comprimida que contiene el código fuente del proyecto en .py o en .ipynb. No incluya archivos binarios (obj y exe). Si no se entrega esta carpeta, el ejercicio no será evaluado.\n",
        "- Adjunte un mini manual de usuario (en pdf) que explique cómo ejecutar la aplicación.\n",
        "- Entregue el conjunto de imágenes de prueba.\n",
        "\n",
        "## <ins>**Entrega de software e imágenes**</ins>\n",
        "- El informe debe tener la siguiente estructura:\n",
        "    - Título\n",
        "    - Autores\n",
        "    - Introducción: explicación del objetivo de la segmentación (lo que se desea extraer de las imágenes)\n",
        "    - Método: explicación de la implementación del algoritmo de k-means (selección e inicialización de los clusters y sus centros, medida de distancia entre un punto y los centros de los clusters, criterio de convergencia).\n",
        "    - Resultados\n",
        "    - Conclusión y discusión\n",
        "- El documento no debe exceder 4 páginas (incluyendo las figuras), con un tamaño de letra de 12 puntos y espaciado sencillo. "
      ]
    },
    {
      "cell_type": "code",
      "metadata": {
        "id": "121LwAesiZ0z",
        "colab_type": "code",
        "colab": {}
      },
      "source": [
        "# Su código inicia aquí"
      ],
      "execution_count": null,
      "outputs": []
    }
  ]
}