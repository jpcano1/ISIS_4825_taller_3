{
 "cells": [
  {
   "cell_type": "markdown",
   "metadata": {
    "colab_type": "text",
    "id": "yTy0LcQQjQfz"
   },
   "source": [
    "![image](https://docs.google.com/uc?export=download&id=15DUc09hFGqR8qcpYiN1OajRNaASmiL6d)\n",
    "\n",
    "# **Taller No. 3: Segmentación por agrupamiento (*clustering*)**\n",
    "\n",
    "# **Contenido**\n",
    "1. [**Objetivo**](#id1)\n",
    "2. [**Metodología**](#id2)\n",
    "3. [**Validación**](#id3)\n",
    "4. [**Demostración**](#id4)\n",
    "\n",
    "\n",
    "<table align=\"left\">\n",
    "  <td>\n",
    "    <a target=\"_blank\" href=\"https://colab.research.google.com/github/jpcano1/ISIS_4825_taller_3/blob/master/Taller_3.ipynb\"><img src=\"https://www.tensorflow.org/images/colab_logo_32px.png\" />Run in Google Colab</a>\n",
    "  </td>\n",
    "</table>"
   ]
  },
  {
   "cell_type": "markdown",
   "metadata": {
    "colab_type": "text",
    "id": "XCXifLhgjtmE"
   },
   "source": [
    "## **1. Objetivo**<a name=\"id1\"></a>\n",
    "- El objetivo de esta tarea es implementar y evaluar un método de segmentación por clustering, aplicándolo a imágenes de diferentes características, con el fin de entender su alcance y restricciones.\n",
    "\n",
    "## **2. Metodología**<a name=\"id2\"></a>\n",
    "- El método de base que se va a implementar en este proyecto es el algoritmo de K-Medias (K-Means).\n",
    "- El Algoritmo de las K-medias¹ es una técnica iterativa que se utiliza para dividir una imagen en K clusters. El algoritmo básico es: \n",
    "    1. Escoger K centros de clusters, ya sea de forma aleatoria o basándose en alguno método heurístico.\n",
    "    2. Asignar a cada píxel de la imagen el clúster que minimiza la varianza entre el pixel y el centro del cluster. \n",
    "    3. Recalcular los centros de los clusters haciendo la media de todos los pixeles del cluster. \n",
    "    4. Repetir los pasos 2 y 3 hasta que se consigue la convergencia (por ejemplo, los pixeles no cambian de clusters). \n",
    "- En este caso, la varianza es la diferencia absoluta entre un píxel y el centro del cluster. La diferencia se basa típicamente en color, la intensidad, la textura, y la localización del pixel, o una combinación ponderada de estos factores. El número K se puede seleccionar manualmente, aleatoriamente, o por una heurística. Este algoritmo garantiza la convergencia, pero puede devolver una solución que no sea óptima. La calidad de la solución depende de la serie inicial de clusters y del valor de K. En estadística y aprendizaje automático, el algoritmo de las k-medias es un algoritmo de agrupamiento para dividir objetos en k grupos, donde k < n. Es similar al algoritmo de maximización de expectativas para las mezclas de gaussianas ya que ambos pretenden encontrar los centros de agrupaciones naturales de los datos. El modelo requiere que los atributos del objeto correspondan a los elementos de un espacio vectorial. El objetivo es intentar alcanzar al mínima varianza total entre clusters, o, la función de error al cuadrado. Un inconveniente del algoritmo de las k-medias es que el número de clusters k es un parámetro de entrada. Una elección inadecuada de k puede dar malos resultados. El algoritmo también asume que la varianza es una medida adecuada de la dispersión del cluster.\n",
    "![image](https://docs.google.com/uc?export=download&id=1zRcUXGgVXHQixjC63ii8xcPbuWYHEbEn)\n",
    "> ¹Tomado de wikipedia: http://es.wikipedia.org/wiki/Segmentación_(procesamiento_de_imágenes)\n",
    "\n",
    "## **3. Validación**<a name=\"id3\"></a>\n",
    "- Como en todos los procesos de segmentación, la validación de la técnica propuesta es un paso obligado. Evalúe el desempeño del método sobre al menos 5 imágenes de prueba, con características diferentes. Comente el desempeño del método en función de la imagen (histograma, nivel de ruido, etc.), del número de clusters y de su inicialización. \n",
    "    \n",
    "    Piense y comente cómo podría preprocesar la imagen para mejorar el resultado de la segmentación en los casos expuestos. AYUDA: dado que se trata de un método de clasificación que depende fuertemente del número de clusters que se escoja, si se reducen los datos a clasificar, el resultado puede mejorar considerablemente.\n",
    "\n",
    "### <ins>**Herramientas de programación**</ins>\n",
    "- El método debe ser implementado en python sobre Jupyter Notebook y además **no debe utilizar la librería Scikit-Learn o alguna otra librería de terceros que tenga el algoritmo de KMeans implementado.**\n",
    "\n",
    "### <ins>**Evaluación**</ins>\n",
    "- Software: 70%\n",
    "- Informe: 30%\n",
    "- **El taller debe  ser desarrollado en grupos de 2 estudiantes**\n",
    "\n",
    "### <ins>**Entrega**</ins>\n",
    "- El taller debe ser entregado en un archivo de .ipynb que contenga tanto el código desarrollado como el informe en markdown.\n",
    "- El Notebook debe tener la siguiente estructura:\n",
    "    - **Título**\n",
    "    - **Autores**\n",
    "    - **Introducción**: explicación del objetivo de la segmentación (lo que se desea extraer de las imágenes)\n",
    "    - **Método**: explicación de la implementación del algoritmo de k-means (selección e inicialización de los clusters y sus centros, medida de distancia entre un punto y los centros de los clusters, criterio de convergencia).\n",
    "    - **Código**: Debidamente documentado y sin errores de ejecución.\n",
    "    - **Resultados**: Adjuntar las imágenes en el notebook.\n",
    "    - **Conclusión y discusión**\n",
    "\n",
    "## **4. Demostración**<a name=\"id4\"></a>"
   ]
  },
  {
   "cell_type": "code",
   "execution_count": null,
   "metadata": {},
   "outputs": [],
   "source": [
    "import utils.color_segmentation as seg"
   ]
  },
  {
   "cell_type": "code",
   "execution_count": null,
   "metadata": {},
   "outputs": [],
   "source": [
    "url = # Inserte URL de la imagen deseada\n",
    "img = seg.download_image(url)"
   ]
  },
  {
   "cell_type": "code",
   "execution_count": null,
   "metadata": {},
   "outputs": [],
   "source": [
    "segmented_imgs = seg.segmentation_demo(img)"
   ]
  },
  {
   "cell_type": "code",
   "execution_count": null,
   "metadata": {},
   "outputs": [],
   "source": [
    "segmented_imgs_grayscale = seg.segmentation_demo(img, gray=True)"
   ]
  }
 ],
 "metadata": {
  "colab": {
   "collapsed_sections": [],
   "name": "Taller 3.ipynb",
   "provenance": []
  },
  "kernelspec": {
   "display_name": "Python 3",
   "language": "python",
   "name": "python3"
  },
  "language_info": {
   "codemirror_mode": {
    "name": "ipython",
    "version": 3
   },
   "file_extension": ".py",
   "mimetype": "text/x-python",
   "name": "python",
   "nbconvert_exporter": "python",
   "pygments_lexer": "ipython3",
   "version": "3.8.2"
  }
 },
 "nbformat": 4,
 "nbformat_minor": 1
}
