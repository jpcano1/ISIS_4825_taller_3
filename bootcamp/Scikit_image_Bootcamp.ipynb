{
 "cells": [
  {
   "cell_type": "markdown",
   "metadata": {
    "colab_type": "text",
    "id": "ye7BNcdRt-PV"
   },
   "source": [
    "![image](https://docs.google.com/uc?export=download&id=15DUc09hFGqR8qcpYiN1OajRNaASmiL6d)\n",
    "\n",
    "# **Scikit-image Bootcamp**\n",
    "\n",
    "<table align=\"left\">\n",
    "  <td>\n",
    "    <a target=\"_blank\" href=\"https://colab.research.google.com/github/jpcano1/ISIS_4825_taller_3/blob/master/Scikit_image_Bootcamp.ipynb\"><img src=\"https://www.tensorflow.org/images/colab_logo_32px.png\" />Run in Google Colab</a>\n",
    "  </td>\n",
    "</table>"
   ]
  },
  {
   "cell_type": "markdown",
   "metadata": {},
   "source": [
    "## **Contenido**\n",
    "1. [**¿Qué es el color y cómo se representa?**](#id1)\n",
    "2. [**Qué es una imagen y cómo se representa?**](#id2)\n",
    "    - [**Cargar y visualizar una imagen en Scikit-Image**](#id2-1)\n",
    "3. [**El histograma de una imagen**](#id3)\n",
    "    - [**¿Cómo es un histograma de una imagen a color?**](#id3-1)\n",
    "4. [**Binarización y Umbralización**](#id4)\n",
    "    - [**Cómo recorrer una imagen**](#id4-1)\n",
    "    - [**Binarizar a través de  `try_all_threshold` de scikit-image**](#id4-2)\n",
    "    - [**Segmentación usando el método de la umbralización**](#id4-3)"
   ]
  },
  {
   "cell_type": "markdown",
   "metadata": {
    "colab_type": "text",
    "id": "oGW60WQ-uDzO"
   },
   "source": [
    "## **¿Qué es el color y cómo se representa?**<a name=\"id1\"></a>\n",
    "- El color es una percepción visual que se presenta en el cerebro de los humanos gracias a los fotorreceptores oculares.\n",
    "- Existen varios modelos para representar las distintos colores, entre ellos los más populares son RGB y CYMK.\n",
    "- RGB $\\to$ Colores en términos de intensidad de Rojo, Verde o Azul\n",
    "- CYM $\\to$ Colores en términos de los pigmentos del Cián, Amarillo y Magenta:\n",
    "\n",
    "$$\\begin{bmatrix} C\\\\[0.3em] M\\\\[0.3em] Y\n",
    "   \\end{bmatrix} = \\begin{bmatrix} 1\\\\[0.3em] 1\\\\[0.3em] 1 \n",
    "                   \\end{bmatrix} - \\begin{bmatrix}R\\\\[0.3em] G\\\\[0.3em] B\\end{bmatrix}$$\n",
    "\n",
    "## **¿Qué es una imagen y cómo se representa?**<a name=\"id2\"></a>\n",
    "- Una imagen es una representación visual compuesta por colores.\n",
    "- Se representa como un conjunto de matrices de tamaño $M \\times N$ donde, dependiendo el modelo, una imagen representará un canal de color y cada matriz estará compuesta por números entre 0 y 1 o entre 0 y 255, la mayoría de las veces.\n",
    "![image](https://www.sketchpad.net/images/channelsrgb.gif)\n",
    "> Imagen tomada de [Scketch pad](https://www.sketchpad.net/)\n",
    "\n",
    "### **Cargar y visualizar una imagen en Scikit-Image**<a name=\"id2-1\"></a>"
   ]
  },
  {
   "cell_type": "code",
   "execution_count": null,
   "metadata": {},
   "outputs": [],
   "source": []
  },
  {
   "cell_type": "code",
   "execution_count": null,
   "metadata": {
    "colab": {},
    "colab_type": "code",
    "id": "d70fiUIKEgvO"
   },
   "outputs": [],
   "source": []
  },
  {
   "cell_type": "code",
   "execution_count": null,
   "metadata": {
    "colab": {},
    "colab_type": "code",
    "id": "3en56Qxwv48-"
   },
   "outputs": [],
   "source": []
  },
  {
   "cell_type": "code",
   "execution_count": null,
   "metadata": {},
   "outputs": [],
   "source": []
  },
  {
   "cell_type": "code",
   "execution_count": null,
   "metadata": {},
   "outputs": [],
   "source": []
  },
  {
   "cell_type": "code",
   "execution_count": null,
   "metadata": {},
   "outputs": [],
   "source": []
  },
  {
   "cell_type": "code",
   "execution_count": null,
   "metadata": {
    "colab": {},
    "colab_type": "code",
    "id": "5zw2e5-ZuU50"
   },
   "outputs": [],
   "source": []
  },
  {
   "cell_type": "code",
   "execution_count": null,
   "metadata": {
    "colab": {
     "base_uri": "https://localhost:8080/",
     "height": 286
    },
    "colab_type": "code",
    "id": "Pe7GIdK8wtI6",
    "outputId": "9498fc4b-916e-450f-e98a-2f91472da551"
   },
   "outputs": [],
   "source": []
  },
  {
   "cell_type": "code",
   "execution_count": null,
   "metadata": {},
   "outputs": [],
   "source": []
  },
  {
   "cell_type": "code",
   "execution_count": null,
   "metadata": {},
   "outputs": [],
   "source": []
  },
  {
   "cell_type": "code",
   "execution_count": null,
   "metadata": {},
   "outputs": [],
   "source": []
  },
  {
   "cell_type": "markdown",
   "metadata": {
    "colab_type": "text",
    "id": "Mwgw__5hwWuw"
   },
   "source": [
    "## **El histograma de una imagen**<a name=\"id3\"></a>\n",
    "- Representación gráfica de la distribución de las intensidades de las tonalidades de los canales de la imagen.\n",
    "### **¿Cómo es un histograma de una imagen a color?**<a name=\"id3-1\"></a>"
   ]
  },
  {
   "cell_type": "code",
   "execution_count": null,
   "metadata": {
    "colab": {},
    "colab_type": "code",
    "id": "_v5LMK-wurGJ"
   },
   "outputs": [],
   "source": []
  },
  {
   "cell_type": "code",
   "execution_count": null,
   "metadata": {},
   "outputs": [],
   "source": []
  },
  {
   "cell_type": "code",
   "execution_count": null,
   "metadata": {
    "scrolled": true
   },
   "outputs": [],
   "source": []
  },
  {
   "cell_type": "markdown",
   "metadata": {},
   "source": [
    "## **Binarización y Umbralización**<a name=\"id4\"></a>\n",
    "- Binarizar es el arte de normalizar todos los píxeles de una imagen en términos de unos y ceros, de True y False.\n",
    "\n",
    "![image](https://felixniklas.com/imageprocessing/content/01-binarization/binarization.png)\n",
    "\n",
    "> Imagen tomada de [Felix Niklas](https://felixniklas.com/)\n",
    "\n",
    "- Umbralizar es el arte de binarizar una imagen dado un umbral numérico.\n",
    "### **Cómo recorrer una imagen**<a name=\"id4-1\"></a>\n",
    "- Apliquemos el concepto de umbralización a una imagen pixel por pixel"
   ]
  },
  {
   "cell_type": "code",
   "execution_count": null,
   "metadata": {},
   "outputs": [],
   "source": []
  },
  {
   "cell_type": "markdown",
   "metadata": {},
   "source": [
    "### **Binarizar a través de  `try_all_threshold` de scikit-image**<a name=\"id4-2\"></a>"
   ]
  },
  {
   "cell_type": "code",
   "execution_count": null,
   "metadata": {},
   "outputs": [],
   "source": []
  },
  {
   "cell_type": "markdown",
   "metadata": {},
   "source": [
    "### **Segmentación usando el método de la umbralización**<a name=\"id4-3\"></a>\n",
    "- Segmentar es dividir una imagen en distintas partes u grupos de píxeles."
   ]
  },
  {
   "cell_type": "code",
   "execution_count": null,
   "metadata": {},
   "outputs": [],
   "source": []
  },
  {
   "cell_type": "code",
   "execution_count": null,
   "metadata": {},
   "outputs": [],
   "source": []
  },
  {
   "cell_type": "code",
   "execution_count": null,
   "metadata": {},
   "outputs": [],
   "source": []
  },
  {
   "cell_type": "code",
   "execution_count": null,
   "metadata": {},
   "outputs": [],
   "source": []
  }
 ],
 "metadata": {
  "colab": {
   "collapsed_sections": [],
   "name": "Scikit-image Bootcamp.ipynb",
   "provenance": []
  },
  "kernelspec": {
   "display_name": "venv",
   "language": "python",
   "name": "venv"
  },
  "language_info": {
   "codemirror_mode": {
    "name": "ipython",
    "version": 3
   },
   "file_extension": ".py",
   "mimetype": "text/x-python",
   "name": "python",
   "nbconvert_exporter": "python",
   "pygments_lexer": "ipython3",
   "version": "3.8.2"
  }
 },
 "nbformat": 4,
 "nbformat_minor": 1
}
